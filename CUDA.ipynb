{
  "cells": [
    {
      "cell_type": "markdown",
      "metadata": {
        "id": "view-in-github",
        "colab_type": "text"
      },
      "source": [
        "<a href=\"https://colab.research.google.com/github/dashadem/HPC-project/blob/main/CUDA.ipynb\" target=\"_parent\"><img src=\"https://colab.research.google.com/assets/colab-badge.svg\" alt=\"Open In Colab\"/></a>"
      ]
    },
    {
      "cell_type": "markdown",
      "source": [
        "# Cuda realization"
      ],
      "metadata": {
        "id": "thaHCeEUV6Fk"
      },
      "id": "thaHCeEUV6Fk"
    },
    {
      "cell_type": "code",
      "execution_count": null,
      "id": "2c04b3d3-1482-4b42-9033-e48c7f2acca3",
      "metadata": {
        "colab": {
          "base_uri": "https://localhost:8080/"
        },
        "id": "2c04b3d3-1482-4b42-9033-e48c7f2acca3",
        "outputId": "fbac4df8-3fd7-42a3-a4c9-c012fe62df0b"
      },
      "outputs": [
        {
          "output_type": "stream",
          "name": "stdout",
          "text": [
            "Overwriting HPCProject.cu\n"
          ]
        }
      ],
      "source": [
        "%%writefile HPCProject.cu\n",
        "\n",
        "#include <stdio.h>\n",
        "#include <iostream>\n",
        "#include <array>\n",
        "\n",
        "const int Nh = 1000;\n",
        "const int Nt = 100000;\n",
        "const float h = (float) 1 / (Nh - 1);\n",
        "const double t = 0.00000001;\n",
        "const float tau = (float) t/Nt;\n",
        "const float B = 0.;\n",
        "\n",
        "// GPU code\n",
        "\n",
        "__device__ int getGid() {\n",
        "\n",
        "    int tid = threadIdx.x + blockDim.x * threadIdx.y +\n",
        "              blockDim.x * blockDim.y * threadIdx.z;\n",
        "\n",
        "    int bid = blockIdx.x + gridDim.x * blockIdx.y +\n",
        "              gridDim.x * gridDim.y * blockIdx.z;\n",
        "\n",
        "    int gid = bid * blockDim.x * blockDim.y * blockDim.z + tid;\n",
        "\n",
        "    return gid;\n",
        "}\n",
        "\n",
        "__global__ void initVars(float* gamma, float* v, float*omega){\n",
        "    unsigned int gid = getGid();\n",
        "    if (gid == 0){\n",
        "      gamma[0] = 0.1;\n",
        "      v[0] = pow(omega[Nh-1],2)*omega[Nh-2]/(gamma[0])/2/h;\n",
        "    }\n",
        "}\n",
        "\n",
        "__global__ void updateVars(float* gamma, float* v, float*omega){\n",
        "    unsigned int gid = getGid();\n",
        "    if (gid == 0){\n",
        "      v[0] = -pow(omega[Nh-1],2)/gamma[0]*((omega[Nh] - omega[Nh-2])/2/h - gamma[0]*B);\n",
        "      gamma[0] = gamma[0] + tau*v[0];\n",
        "    }\n",
        "}\n",
        "\n",
        "__global__ void printMatrix(float* array, int size) {\n",
        "    unsigned int gid = getGid();\n",
        "    if (gid < size) {\n",
        "      printf(\"Gid = %d, value = %f \\n\", gid, array[gid]);\n",
        "    }\n",
        "}\n",
        "\n",
        "__global__ void initKsi(float* ksi, int size) {\n",
        "    int gid = getGid();\n",
        "    if (gid < size) {\n",
        "        ksi[gid] = 1 / (float)(size - 1) * gid;\n",
        "    }\n",
        "}\n",
        "\n",
        "__global__ void initOmega(float* omega,  int size, float* ksi) {\n",
        "    int gid = getGid();\n",
        "    if (gid < size) {\n",
        "        omega[gid] = sqrt(1 - ksi[gid]);\n",
        "    }\n",
        "}\n",
        "\n",
        "__global__ void printArray(float* array, int size) {\n",
        "    int gid = getGid();\n",
        "    if (gid < size) {\n",
        "        printf(\"I am %d, I have a value %.10f \\n\", gid,array[gid]);\n",
        "    }\n",
        "}\n",
        "\n",
        "__global__ void iterate(float* omega, float* ksi, int size, float*gamma, float* v) {\n",
        "    int gid = getGid();\n",
        "    if (gid < size) {\n",
        "      for (int i = 0; i<Nt; i++){\n",
        "        if ((gid >0) && (gid < size-1)){\n",
        "          float value = omega[gid] + tau*((1/gamma[0]*v[0]*ksi[gid])*(omega[gid + 1] - omega[gid])/h -\n",
        "                                        1/gamma[0]/h * ( -pow(omega[gid+1] + omega[gid], 3)/8/gamma[0] * ((omega[gid+1] - omega[gid])/h - gamma[0] * B) +\n",
        "                                                    pow(omega[gid-1] + omega[gid],3)/8/gamma[0] * ((omega[gid] - omega[gid-1])/h - gamma[0] * B)));\n",
        "          __syncthreads();\n",
        "          omega[gid] = value;\n",
        "        }\n",
        "        if (gid == 0){\n",
        "          v[0] = -pow(omega[Nh-1],2)/gamma[0]*((omega[Nh] - omega[Nh-2])/2/h - gamma[0]*B);\n",
        "          gamma[0] = gamma[0] + tau*v[0];\n",
        "        }\n",
        "        //__syncthreads();\n",
        "      }\n",
        "    }\n",
        "}\n",
        "\n",
        "// CPU code\n",
        "int main() {\n",
        "\n",
        "     FILE *file;\n",
        "\n",
        "    // Open a file in writing mode\n",
        "    file = fopen(\"cudaSolution.txt\", \"w\");\n",
        "\n",
        "\n",
        "    std::array<float, Nh> results;\n",
        "    for(auto n = 0; n < Nh; ++n) {\n",
        "        results[n] = 0.;\n",
        "    }\n",
        "\n",
        "    float* ksi;\n",
        "    cudaMalloc(&ksi, Nh*sizeof(float));\n",
        "    initKsi<<<32, 32>>>(ksi, Nh);\n",
        "\n",
        "    float* omega;\n",
        "    cudaMalloc(&omega, Nh*sizeof(float));\n",
        "    initOmega<<<32, 32>>>(omega, Nh, ksi);\n",
        "\n",
        "    float* gamma;\n",
        "    cudaMalloc(&gamma, sizeof(float));\n",
        "\n",
        "    float* v;\n",
        "    cudaMalloc(&v, sizeof(float));\n",
        "    initVars<<<32, 32>>>(gamma, v, omega);\n",
        "\n",
        "    iterate<<<32, 32>>>(omega, ksi, Nh, gamma, v);\n",
        "\n",
        "    cudaMemcpy(results.data(), omega, Nh * sizeof(float), cudaMemcpyDeviceToHost);\n",
        "\n",
        "    for (int i = 0; i<Nh; i++){\n",
        "        fprintf(file, \"%f \\n\", results[i]);\n",
        "    }\n",
        "\n",
        "\n",
        "    // Close the file\n",
        "    fclose(file);\n",
        "\n",
        "    cudaDeviceSynchronize();\n",
        "    std::cout << \"Done from CPU\\n\";\n",
        "    return 0;\n",
        "}"
      ]
    },
    {
      "cell_type": "code",
      "source": [
        "!nvcc HPCProject.cu -o test"
      ],
      "metadata": {
        "id": "ovCHSw-1V9Sd"
      },
      "id": "ovCHSw-1V9Sd",
      "execution_count": null,
      "outputs": []
    },
    {
      "cell_type": "code",
      "source": [
        "%%time\n",
        "!./test"
      ],
      "metadata": {
        "colab": {
          "base_uri": "https://localhost:8080/"
        },
        "id": "71edCD-DWAP1",
        "outputId": "2bed2f2e-7f65-48b4-afa1-4259b928e31f"
      },
      "id": "71edCD-DWAP1",
      "execution_count": null,
      "outputs": [
        {
          "output_type": "stream",
          "name": "stdout",
          "text": [
            "Done from CPU\n",
            "CPU times: user 12.8 ms, sys: 459 µs, total: 13.2 ms\n",
            "Wall time: 1.32 s\n"
          ]
        }
      ]
    }
  ],
  "metadata": {
    "kernelspec": {
      "display_name": "Python 3",
      "name": "python3"
    },
    "language_info": {
      "codemirror_mode": {
        "name": "ipython",
        "version": 3
      },
      "file_extension": ".py",
      "mimetype": "text/x-python",
      "name": "python",
      "nbconvert_exporter": "python",
      "pygments_lexer": "ipython3",
      "version": "3.11.8"
    },
    "colab": {
      "provenance": [],
      "gpuType": "T4",
      "include_colab_link": true
    },
    "accelerator": "GPU"
  },
  "nbformat": 4,
  "nbformat_minor": 5
}